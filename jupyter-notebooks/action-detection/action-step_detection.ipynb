{
 "cells": [
  {
   "cell_type": "code",
   "execution_count": 1,
   "id": "b915e31a",
   "metadata": {},
   "outputs": [],
   "source": [
    "# import packages to read sqlite file\n",
    "import sqlite3\n",
    "import pandas as pd\n",
    "import time  \n",
    "\n",
    "# import packages to write a json file\n",
    "import os\n",
    "import json"
   ]
  },
  {
   "cell_type": "markdown",
   "id": "339f86c8",
   "metadata": {},
   "source": [
    "- Getting Unix timestamps in PTG format.\n",
    "- Getting artifical timestamps that was generated given a ```first-entry``` and ```last-entry``` timestamps in PTG format."
   ]
  },
  {
   "cell_type": "code",
   "execution_count": 2,
   "id": "025a43a7",
   "metadata": {},
   "outputs": [],
   "source": [
    "# TimeStamps\n",
    "\n",
    "# generate artificial timestamps\n",
    "def preprocessTimestampData(recordingMetaData, count_row):\n",
    "    result = []\n",
    "    rawFirstEntryTimestamp = recordingMetaData['first-entry'].split('-')[0]\n",
    "    rawLastEntryTimestamp = recordingMetaData[\"last-entry\"].split('-')[0]\n",
    "    duration = int(rawLastEntryTimestamp) - int(rawFirstEntryTimestamp); # get total duration from json files.\n",
    "    intervals = duration/count_row\n",
    "    for playedTime in range(count_row):\n",
    "        currentTime = int(playedTime * intervals)\n",
    "        result.append(str(int(rawFirstEntryTimestamp) + currentTime) + \"-0\")\n",
    "    return result\n",
    "\n",
    "# get Unix Timestamp in PTG format\n",
    "def get_timeStamp():\n",
    "    unix_timestamp = time.time()  # Unix Timestamp: Applying time() method             \n",
    "    unix_timestamp_ptg = str(int(unix_timestamp*1000))+\"-0\"  # convert to PTG timestamp format\n",
    "    return unix_timestamp_ptg"
   ]
  },
  {
   "cell_type": "markdown",
   "id": "60d82a57",
   "metadata": {},
   "source": [
    "Create a database connection to the SQLite database and return this as a dataframe"
   ]
  },
  {
   "cell_type": "code",
   "execution_count": null,
   "id": "8ff48a9d",
   "metadata": {},
   "outputs": [],
   "source": [
    "def create_connection(db_file):\n",
    "    \"\"\" create a database connection to the SQLite database\n",
    "        specified by the db_file\n",
    "    :param db_file: database file\n",
    "    :return: Connection object or None\n",
    "    \"\"\"\n",
    "    conn = None\n",
    "    try:\n",
    "        conn = sqlite3.connect(db_file, uri=True)\n",
    "    except Error as e:\n",
    "        print(e)\n",
    "    return conn\n",
    "\n",
    "def get_dataframe_from_sqlite(db_file, table_name):\n",
    "    # fancy read-only connection\n",
    "    conn = create_connection(db_file)\n",
    "    # create the dataframe from a query\n",
    "    query = \"SELECT * FROM \" + table_name\n",
    "    df = pd.read_sql_query(query, conn)\n",
    "    return df"
   ]
  },
  {
   "cell_type": "markdown",
   "id": "9d84a0a9",
   "metadata": {},
   "source": [
    "#### Getting actions from a dataframe"
   ]
  },
  {
   "cell_type": "code",
   "execution_count": 3,
   "id": "da02c2e6",
   "metadata": {},
   "outputs": [],
   "source": [
    "\n",
    "\n",
    "def get_actions_json(df, artificialTimeStamps=None):\n",
    "    json_values = []\n",
    "    unique_actions = df[\"Event\"].unique()\n",
    "\n",
    "    for index, row in df.iterrows():\n",
    "        row_action = row['Event']\n",
    "        # row_dic = {\"timestamp\": row['timestamp']} # get time from sqlite file\n",
    "#         row_dic = {\"timestamp\": get_timeStamp()}    # get current time\n",
    "        if(artificialTimeStamps):\n",
    "            row_dic = {\"timestamp\": artificialTimeStamps[index]}\n",
    "        else:\n",
    "            row_dic = {\"timestamp\": row['timestamp']} # get time from sqlite file\n",
    "        for action in unique_actions:\n",
    "            if (action == row_action):\n",
    "                row_dic[action] = 1\n",
    "            else:\n",
    "                row_dic[action] = 0\n",
    "        json_values.append(row_dic)\n",
    "    return json_values\n",
    "\n"
   ]
  },
  {
   "cell_type": "markdown",
   "id": "a4a5bff9",
   "metadata": {},
   "source": [
    "#### Getting steps from a dataframe\n"
   ]
  },
  {
   "cell_type": "code",
   "execution_count": 17,
   "id": "949d5de9",
   "metadata": {},
   "outputs": [],
   "source": [
    "# {\n",
    "#   \"step_id\": 0,\n",
    "#   \"step_status\": \"NEW\",\n",
    "#   \"step_description\": \"Place tortilla on cutting board.\",\n",
    "#   \"error_status\": false,\n",
    "#   \"error_description\": \"\",\n",
    "#   \"timestamp\": \"1679339146083-0\"\n",
    "# }\n",
    "\n",
    "def get_steps_json(df, artificialTimeStamps=None, substeps=False):\n",
    "    json_values = []\n",
    "\n",
    "    for index, row in df.iterrows():\n",
    "        row_step = row['Step'] if row['Step'] != None else \"None\" \n",
    "        step = row_step if substeps else row_step.split('.')[0] # substeps\n",
    "        # row['timestamp'] # get time from sqlite file\n",
    "        timestamp_value = artificialTimeStamps[index] if artificialTimeStamps else row['timestamp']\n",
    "\n",
    "        row_dic = {\"step_id\": step,\n",
    "                \"step_status\": \"NEW\",\n",
    "                \"step_description\": \"\",\n",
    "                \"error_status\": False,\n",
    "                \"error_description\": \"\",\n",
    "                \"timestamp\": timestamp_value\n",
    "               }\n",
    "        json_values.append(row_dic)\n",
    "    return json_values\n",
    "\n"
   ]
  },
  {
   "cell_type": "markdown",
   "id": "6babefa8",
   "metadata": {},
   "source": [
    "### Getting actions from a SQLite database.\n",
    "An artificial timestamps is used, where the ``first-entry`` is ``\"1683929511993-0\"`` and  ``last-entry`` is ``\"1683929525968-0\"``.\n"
   ]
  },
  {
   "cell_type": "code",
   "execution_count": 5,
   "id": "44bcf587",
   "metadata": {
    "scrolled": true
   },
   "outputs": [],
   "source": [
    "filename = 'egovlp_action_steps_v4.json' # 'detic-image-fixed-labels.json'\n",
    "isFile = os.path.isfile(filename)\n",
    "\n",
    "df_table = get_dataframe_from_sqlite(\"0293_13.sqlite\", \"ocarina_mission_log\")\n",
    "\n",
    "# Generate artificial timestamps\n",
    "count_row = df_table.shape[0]  # Gives number of rows\n",
    "recordingMetaData = {'first-entry': \"1683929511993-0\", \"last-entry\": \"1683929525968-0\"}\n",
    "artificialTimeStamps = preprocessTimestampData(recordingMetaData, count_row)\n",
    "\n",
    "\n",
    "json_data = get_actions_json(df_table, artificialTimeStamps)\n",
    "\n",
    "if (not isFile):\n",
    "    with open(filename, 'w') as fp:\n",
    "        json.dump(json_data, fp, indent=4)\n",
    "else:\n",
    "    print(f'An error occurred writing to {filename}.') "
   ]
  },
  {
   "cell_type": "markdown",
   "id": "ab87bd21",
   "metadata": {},
   "source": [
    "### Getting steps from a SQLite database.\n",
    "An artificial timestamps is used, where the ``first-entry`` is ``\"1683929511993-0\"`` and  ``last-entry`` is ``\"1683929525968-0\"``."
   ]
  },
  {
   "cell_type": "code",
   "execution_count": 18,
   "id": "62b69592",
   "metadata": {},
   "outputs": [],
   "source": [
    "filename = 'reasoning_check_status_substeps1.json' # 'detic-image-fixed-labels.json'\n",
    "isFile = os.path.isfile(filename)\n",
    "\n",
    "df_table = get_dataframe_from_sqlite(\"0293_13.sqlite\", \"ocarina_mission_log\")\n",
    "\n",
    "# Generate artificial timestamps\n",
    "count_row = df_table.shape[0]  # Gives number of rows\n",
    "recordingMetaData = {'first-entry': \"1683929511993-0\", \"last-entry\": \"1683929525968-0\"}\n",
    "artificialTimeStamps = preprocessTimestampData(recordingMetaData, count_row)\n",
    "\n",
    "\n",
    "json_data = get_steps_json(df_table, artificialTimeStamps)\n",
    "\n",
    "if (not isFile):\n",
    "    with open(filename, 'w') as fp:\n",
    "        json.dump(json_data, fp, indent=4)\n",
    "else:\n",
    "    print(f'An error occurred writing to {filename}.') "
   ]
  },
  {
   "cell_type": "code",
   "execution_count": null,
   "id": "ae3d97d2",
   "metadata": {},
   "outputs": [],
   "source": []
  }
 ],
 "metadata": {
  "kernelspec": {
   "display_name": "Python 3 (ipykernel)",
   "language": "python",
   "name": "python3"
  },
  "language_info": {
   "codemirror_mode": {
    "name": "ipython",
    "version": 3
   },
   "file_extension": ".py",
   "mimetype": "text/x-python",
   "name": "python",
   "nbconvert_exporter": "python",
   "pygments_lexer": "ipython3",
   "version": "3.8.16"
  }
 },
 "nbformat": 4,
 "nbformat_minor": 5
}
