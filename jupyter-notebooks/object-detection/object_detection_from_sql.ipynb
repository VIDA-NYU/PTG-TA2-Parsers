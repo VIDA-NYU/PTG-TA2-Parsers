{
 "cells": [
  {
   "cell_type": "code",
   "execution_count": 1,
   "id": "91d1799f",
   "metadata": {},
   "outputs": [],
   "source": [
    "# importing the required module\n",
    "import datetime\n",
    "import calendar\n",
    "import sqlite3\n",
    "import pandas as pd\n",
    "\n",
    "# import packages to write a json file\n",
    "import os\n",
    "import json"
   ]
  },
  {
   "cell_type": "code",
   "execution_count": 2,
   "id": "095fdf8a",
   "metadata": {},
   "outputs": [],
   "source": [
    "def create_connection(db_file):\n",
    "    \"\"\" create a database connection to the SQLite database\n",
    "        specified by the db_file\n",
    "    :param db_file: database file\n",
    "    :return: Connection object or None\n",
    "    \"\"\"\n",
    "    conn = None\n",
    "    try:\n",
    "        conn = sqlite3.connect(db_file, uri=True)\n",
    "    except Exception as e:\n",
    "        print(e)\n",
    "    return conn\n",
    "\n",
    "def get_dataframe_from_sqlite(db_file, table_name):\n",
    "    # read-only connection\n",
    "    conn = create_connection(db_file)\n",
    "    # create the dataframe from a query\n",
    "    query = \"SELECT * FROM \" + table_name\n",
    "    df = pd.read_sql_query(query, conn, chunksize=100)\n",
    "    return df"
   ]
  },
  {
   "cell_type": "code",
   "execution_count": 3,
   "id": "93998d56",
   "metadata": {},
   "outputs": [],
   "source": [
    "\n",
    "# Convert date string to PTG timestamp format (epoch)\n",
    "def  utc_date_to_epoch(utc_date_str):\n",
    "    # utc_date_str = '2022-09-28 17:28:35.480247'\n",
    "    datetime_value = datetime.datetime.strptime(utc_date_str, '%Y-%m-%d %H:%M:%S.%f')\n",
    "    dt_now = datetime.datetime.now()\n",
    "    # replace with current YYMMDD info so objects and actions can be synchronized.\n",
    "    # this is done because action timestamps doesnt have YYMMDD info\n",
    "    # when there is no YYMMDD info, the default YYMMDD is 1900-01-01 which generate a different epoch value\n",
    "    dt = datetime_value.replace(year=dt_now.year, month=dt_now.month, day=dt_now.day) \n",
    "    epoch_format = calendar.timegm(dt.timetuple())\n",
    "    ptg_timestamp_format = str(epoch_format* 1000)+'-0'\n",
    "    return ptg_timestamp_format\n",
    "\n",
    "def get_json_values(sql_df):\n",
    "    \n",
    "    target_objects = ['fdvcp', 'mfd inboard', 'mfd outboard', 'cdu']\n",
    "    json_values = []\n",
    "\n",
    "    for chunk in sql_df:\n",
    "        \n",
    "        df2 = chunk[chunk['timestamp'].notnull()] # remove null timestamps\n",
    "        df3 = df2[pd.to_datetime(df2['timestamp'], errors='coerce',format='%Y-%m-%d %H:%M:%S.%f').notnull()] # check correct format\n",
    "        uniqueTs = df3['timestamp'].unique()\n",
    "    \n",
    "        for ts in uniqueTs:\n",
    "            detected_objects_per_ts = chunk[chunk['timestamp'] == ts]['component_id'].values\n",
    "            values = []\n",
    "            for obj in target_objects:\n",
    "                if(obj in list(detected_objects_per_ts)):\n",
    "                    values.append({\n",
    "                        \"xyxyn\":[0,0,0,0],\n",
    "                        \"confidence\":1,\n",
    "                        \"class_id\":1,\n",
    "                        \"label\":obj\n",
    "                        })\n",
    "            json_values.append({\n",
    "                \"frame_type\":123,\n",
    "                \"values\": values,\n",
    "                \"timestamp\": utc_date_to_epoch(ts)\n",
    "                })\n",
    "\n",
    "    sorted_json_data = sorted(json_values, key=lambda d: d['timestamp'].split('-')[0])\n",
    "    return sorted_json_data"
   ]
  },
  {
   "cell_type": "code",
   "execution_count": 4,
   "id": "e63cf67a",
   "metadata": {},
   "outputs": [],
   "source": [
    "filename = 'objects_from_sql_v10.json' # 'detic-image-fixed-labels.json'\n",
    "isFile = os.path.isfile(filename)\n",
    "\n",
    "sql_df = get_dataframe_from_sqlite(\"0293_13.sqlite\", \"hl2_rgb_bounding_boxes\")\n",
    "json_data = get_json_values(sql_df)\n",
    "\n",
    "if (not isFile):\n",
    "    with open(filename, 'w') as fp:\n",
    "        json.dump(json_data, fp, indent=4)\n",
    "else:\n",
    "    print(f'An error occurred writing to {filename}.') "
   ]
  },
  {
   "cell_type": "code",
   "execution_count": null,
   "id": "c8e3b2ee",
   "metadata": {},
   "outputs": [],
   "source": []
  }
 ],
 "metadata": {
  "kernelspec": {
   "display_name": "Python 3 (ipykernel)",
   "language": "python",
   "name": "python3"
  },
  "language_info": {
   "codemirror_mode": {
    "name": "ipython",
    "version": 3
   },
   "file_extension": ".py",
   "mimetype": "text/x-python",
   "name": "python",
   "nbconvert_exporter": "python",
   "pygments_lexer": "ipython3",
   "version": "3.8.16"
  }
 },
 "nbformat": 4,
 "nbformat_minor": 5
}
